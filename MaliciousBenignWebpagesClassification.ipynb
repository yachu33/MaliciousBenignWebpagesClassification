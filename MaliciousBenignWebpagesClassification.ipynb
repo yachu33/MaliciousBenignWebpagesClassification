{
  "nbformat": 4,
  "nbformat_minor": 0,
  "metadata": {
    "colab": {
      "name": "MaliciousBenignWebpagesClassification.ipynb",
      "provenance": [],
      "collapsed_sections": [],
      "authorship_tag": "ABX9TyOphvSPfz4Uni2qLuuW5rXT",
      "include_colab_link": true
    },
    "kernelspec": {
      "name": "python3",
      "display_name": "Python 3"
    },
    "accelerator": "GPU"
  },
  "cells": [
    {
      "cell_type": "markdown",
      "metadata": {
        "id": "view-in-github",
        "colab_type": "text"
      },
      "source": [
        "<a href=\"https://colab.research.google.com/github/yachu33/MaliciousBenignWebpagesClassification/blob/master/MaliciousBenignWebpagesClassification.ipynb\" target=\"_parent\"><img src=\"https://colab.research.google.com/assets/colab-badge.svg\" alt=\"Open In Colab\"/></a>"
      ]
    },
    {
      "cell_type": "markdown",
      "metadata": {
        "id": "cNcCmNGvLdCA",
        "colab_type": "text"
      },
      "source": [
        "# Malicious Benign Webpages Classfifcation"
      ]
    },
    {
      "cell_type": "markdown",
      "metadata": {
        "id": "skD1K4arLpjr",
        "colab_type": "text"
      },
      "source": [
        "### Data Preparation"
      ]
    },
    {
      "cell_type": "code",
      "metadata": {
        "id": "SzEPAge1BPbo",
        "colab_type": "code",
        "outputId": "7527484d-090a-46e4-b3b6-33c73fd0cca4",
        "colab": {
          "base_uri": "https://localhost:8080/",
          "height": 301
        }
      },
      "source": [
        "%%shell\n",
        "pip install gdown\n",
        "# download training data \n",
        "gdown --id 1lTqqaUwG974ehlghkHPVulvqy1CWwm2a\n",
        "\n",
        "#download testing data\n",
        "gdown --id 1RpgKDByw-U1yTenmgqKFySV7Rt9WkMKM\n"
      ],
      "execution_count": 1,
      "outputs": [
        {
          "output_type": "stream",
          "text": [
            "Requirement already satisfied: gdown in /usr/local/lib/python3.6/dist-packages (3.6.4)\n",
            "Requirement already satisfied: six in /usr/local/lib/python3.6/dist-packages (from gdown) (1.12.0)\n",
            "Requirement already satisfied: tqdm in /usr/local/lib/python3.6/dist-packages (from gdown) (4.41.1)\n",
            "Requirement already satisfied: requests in /usr/local/lib/python3.6/dist-packages (from gdown) (2.23.0)\n",
            "Requirement already satisfied: urllib3!=1.25.0,!=1.25.1,<1.26,>=1.21.1 in /usr/local/lib/python3.6/dist-packages (from requests->gdown) (1.24.3)\n",
            "Requirement already satisfied: chardet<4,>=3.0.2 in /usr/local/lib/python3.6/dist-packages (from requests->gdown) (3.0.4)\n",
            "Requirement already satisfied: certifi>=2017.4.17 in /usr/local/lib/python3.6/dist-packages (from requests->gdown) (2020.4.5.1)\n",
            "Requirement already satisfied: idna<3,>=2.5 in /usr/local/lib/python3.6/dist-packages (from requests->gdown) (2.9)\n",
            "Downloading...\n",
            "From: https://drive.google.com/uc?id=1lTqqaUwG974ehlghkHPVulvqy1CWwm2a\n",
            "To: /content/Webpages_Classification_train_data.csv\n",
            "2.11GB [00:23, 90.6MB/s]\n",
            "Downloading...\n",
            "From: https://drive.google.com/uc?id=1RpgKDByw-U1yTenmgqKFySV7Rt9WkMKM\n",
            "To: /content/Webpages_Classification_test_data.csv\n",
            "635MB [00:15, 42.3MB/s]\n"
          ],
          "name": "stdout"
        },
        {
          "output_type": "execute_result",
          "data": {
            "text/plain": [
              ""
            ]
          },
          "metadata": {
            "tags": []
          },
          "execution_count": 1
        }
      ]
    },
    {
      "cell_type": "code",
      "metadata": {
        "id": "eZmw6RIaVT67",
        "colab_type": "code",
        "colab": {}
      },
      "source": [
        "# import all required package\n",
        "\n",
        "import pandas as pd\n",
        "import numpy as np\n",
        "import matplotlib.pyplot as plt\n",
        "import matplotlib.patches as mpatches\n",
        "\n",
        "from sklearn.neighbors import KNeighborsClassifier\n",
        "from sklearn.ensemble import RandomForestClassifier\n",
        "from sklearn.metrics import accuracy_score\n",
        "from sklearn.metrics import classification_report\n",
        "from sklearn.metrics import confusion_matrix\n",
        "from sklearn.preprocessing import MinMaxScaler\n",
        "from sklearn import decomposition\n",
        "\n",
        "from tensorflow import keras\n",
        "from tensorflow.keras import layers"
      ],
      "execution_count": 0,
      "outputs": []
    },
    {
      "cell_type": "code",
      "metadata": {
        "id": "YRFmse_xK6tM",
        "colab_type": "code",
        "colab": {}
      },
      "source": [
        "# read csv data \n",
        "train_df = pd.read_csv(\"Webpages_Classification_train_data.csv\")\n",
        "test_df = pd.read_csv(\"Webpages_Classification_test_data.csv\")\n",
        "\n",
        "train_df_orig = train_df.copy()\n",
        "test_df_orig = test_df.copy()\n"
      ],
      "execution_count": 0,
      "outputs": []
    },
    {
      "cell_type": "code",
      "metadata": {
        "id": "aziz5O_FLcMx",
        "colab_type": "code",
        "outputId": "d3720ba8-bebc-4f16-8c2f-b1c77ef7d955",
        "colab": {
          "base_uri": "https://localhost:8080/",
          "height": 197
        }
      },
      "source": [
        "train_df.head()"
      ],
      "execution_count": 4,
      "outputs": [
        {
          "output_type": "execute_result",
          "data": {
            "text/html": [
              "<div>\n",
              "<style scoped>\n",
              "    .dataframe tbody tr th:only-of-type {\n",
              "        vertical-align: middle;\n",
              "    }\n",
              "\n",
              "    .dataframe tbody tr th {\n",
              "        vertical-align: top;\n",
              "    }\n",
              "\n",
              "    .dataframe thead th {\n",
              "        text-align: right;\n",
              "    }\n",
              "</style>\n",
              "<table border=\"1\" class=\"dataframe\">\n",
              "  <thead>\n",
              "    <tr style=\"text-align: right;\">\n",
              "      <th></th>\n",
              "      <th>Unnamed: 0</th>\n",
              "      <th>url</th>\n",
              "      <th>url_len</th>\n",
              "      <th>ip_add</th>\n",
              "      <th>geo_loc</th>\n",
              "      <th>tld</th>\n",
              "      <th>who_is</th>\n",
              "      <th>https</th>\n",
              "      <th>js_len</th>\n",
              "      <th>js_obf_len</th>\n",
              "      <th>content</th>\n",
              "      <th>label</th>\n",
              "    </tr>\n",
              "  </thead>\n",
              "  <tbody>\n",
              "    <tr>\n",
              "      <th>0</th>\n",
              "      <td>0</td>\n",
              "      <td>http://members.tripod.com/russiastation/</td>\n",
              "      <td>40</td>\n",
              "      <td>42.77.221.155</td>\n",
              "      <td>Taiwan</td>\n",
              "      <td>com</td>\n",
              "      <td>complete</td>\n",
              "      <td>yes</td>\n",
              "      <td>58.0</td>\n",
              "      <td>0.0</td>\n",
              "      <td>Named themselves charged particles in a manly ...</td>\n",
              "      <td>good</td>\n",
              "    </tr>\n",
              "    <tr>\n",
              "      <th>1</th>\n",
              "      <td>1</td>\n",
              "      <td>http://www.ddj.com/cpp/184403822</td>\n",
              "      <td>32</td>\n",
              "      <td>3.211.202.180</td>\n",
              "      <td>United States</td>\n",
              "      <td>com</td>\n",
              "      <td>complete</td>\n",
              "      <td>yes</td>\n",
              "      <td>52.5</td>\n",
              "      <td>0.0</td>\n",
              "      <td>And filipino field \\n \\n \\n \\n \\n \\n \\n \\n the...</td>\n",
              "      <td>good</td>\n",
              "    </tr>\n",
              "    <tr>\n",
              "      <th>2</th>\n",
              "      <td>2</td>\n",
              "      <td>http://www.naef-usa.com/</td>\n",
              "      <td>24</td>\n",
              "      <td>24.232.54.41</td>\n",
              "      <td>Argentina</td>\n",
              "      <td>com</td>\n",
              "      <td>complete</td>\n",
              "      <td>yes</td>\n",
              "      <td>103.5</td>\n",
              "      <td>0.0</td>\n",
              "      <td>Took in cognitivism, whose adherents argue for...</td>\n",
              "      <td>good</td>\n",
              "    </tr>\n",
              "    <tr>\n",
              "      <th>3</th>\n",
              "      <td>3</td>\n",
              "      <td>http://www.ff-b2b.de/</td>\n",
              "      <td>21</td>\n",
              "      <td>147.22.38.45</td>\n",
              "      <td>United States</td>\n",
              "      <td>de</td>\n",
              "      <td>incomplete</td>\n",
              "      <td>no</td>\n",
              "      <td>720.0</td>\n",
              "      <td>532.8</td>\n",
              "      <td>fire cumshot sodomize footaction tortur failed...</td>\n",
              "      <td>bad</td>\n",
              "    </tr>\n",
              "    <tr>\n",
              "      <th>4</th>\n",
              "      <td>4</td>\n",
              "      <td>http://us.imdb.com/title/tt0176269/</td>\n",
              "      <td>35</td>\n",
              "      <td>205.30.239.85</td>\n",
              "      <td>United States</td>\n",
              "      <td>com</td>\n",
              "      <td>complete</td>\n",
              "      <td>yes</td>\n",
              "      <td>46.5</td>\n",
              "      <td>0.0</td>\n",
              "      <td>Levant, also monsignor georges. In 1800, lists...</td>\n",
              "      <td>good</td>\n",
              "    </tr>\n",
              "  </tbody>\n",
              "</table>\n",
              "</div>"
            ],
            "text/plain": [
              "   Unnamed: 0  ... label\n",
              "0           0  ...  good\n",
              "1           1  ...  good\n",
              "2           2  ...  good\n",
              "3           3  ...   bad\n",
              "4           4  ...  good\n",
              "\n",
              "[5 rows x 12 columns]"
            ]
          },
          "metadata": {
            "tags": []
          },
          "execution_count": 4
        }
      ]
    },
    {
      "cell_type": "code",
      "metadata": {
        "id": "m31khePaRb05",
        "colab_type": "code",
        "outputId": "3bb81806-b51c-4ab5-8044-2ef23980adf1",
        "colab": {
          "base_uri": "https://localhost:8080/",
          "height": 231
        }
      },
      "source": [
        "test_df.head()"
      ],
      "execution_count": 5,
      "outputs": [
        {
          "output_type": "execute_result",
          "data": {
            "text/html": [
              "<div>\n",
              "<style scoped>\n",
              "    .dataframe tbody tr th:only-of-type {\n",
              "        vertical-align: middle;\n",
              "    }\n",
              "\n",
              "    .dataframe tbody tr th {\n",
              "        vertical-align: top;\n",
              "    }\n",
              "\n",
              "    .dataframe thead th {\n",
              "        text-align: right;\n",
              "    }\n",
              "</style>\n",
              "<table border=\"1\" class=\"dataframe\">\n",
              "  <thead>\n",
              "    <tr style=\"text-align: right;\">\n",
              "      <th></th>\n",
              "      <th>Unnamed: 0</th>\n",
              "      <th>url</th>\n",
              "      <th>url_len</th>\n",
              "      <th>ip_add</th>\n",
              "      <th>geo_loc</th>\n",
              "      <th>tld</th>\n",
              "      <th>who_is</th>\n",
              "      <th>https</th>\n",
              "      <th>js_len</th>\n",
              "      <th>js_obf_len</th>\n",
              "      <th>content</th>\n",
              "      <th>label</th>\n",
              "    </tr>\n",
              "  </thead>\n",
              "  <tbody>\n",
              "    <tr>\n",
              "      <th>0</th>\n",
              "      <td>0</td>\n",
              "      <td>http://www.dutchthewiz.com/freeware/</td>\n",
              "      <td>36</td>\n",
              "      <td>175.67.214.68</td>\n",
              "      <td>China</td>\n",
              "      <td>com</td>\n",
              "      <td>complete</td>\n",
              "      <td>yes</td>\n",
              "      <td>38.5</td>\n",
              "      <td>0.0</td>\n",
              "      <td>Decay suggest in 1315.. Current constitution, ...</td>\n",
              "      <td>good</td>\n",
              "    </tr>\n",
              "    <tr>\n",
              "      <th>1</th>\n",
              "      <td>1</td>\n",
              "      <td>http://www.collectiblejewels.com</td>\n",
              "      <td>32</td>\n",
              "      <td>188.120.171.121</td>\n",
              "      <td>Sweden</td>\n",
              "      <td>com</td>\n",
              "      <td>incomplete</td>\n",
              "      <td>yes</td>\n",
              "      <td>187.0</td>\n",
              "      <td>0.0</td>\n",
              "      <td>breast addict nudger whash ky darkie catholics...</td>\n",
              "      <td>good</td>\n",
              "    </tr>\n",
              "    <tr>\n",
              "      <th>2</th>\n",
              "      <td>2</td>\n",
              "      <td>http://www.deadlinedata.com</td>\n",
              "      <td>27</td>\n",
              "      <td>193.51.170.1</td>\n",
              "      <td>France</td>\n",
              "      <td>com</td>\n",
              "      <td>complete</td>\n",
              "      <td>yes</td>\n",
              "      <td>31.0</td>\n",
              "      <td>0.0</td>\n",
              "      <td>Nato's military stoic philosophy says to accep...</td>\n",
              "      <td>good</td>\n",
              "    </tr>\n",
              "    <tr>\n",
              "      <th>3</th>\n",
              "      <td>3</td>\n",
              "      <td>http://www.mil.fi/maavoimat/kalustoesittely/00...</td>\n",
              "      <td>56</td>\n",
              "      <td>13.237.35.44</td>\n",
              "      <td>Australia</td>\n",
              "      <td>fi</td>\n",
              "      <td>complete</td>\n",
              "      <td>yes</td>\n",
              "      <td>152.0</td>\n",
              "      <td>0.0</td>\n",
              "      <td>Night being newton. according to the formation...</td>\n",
              "      <td>good</td>\n",
              "    </tr>\n",
              "    <tr>\n",
              "      <th>4</th>\n",
              "      <td>4</td>\n",
              "      <td>http://www.avclub.com/content/node/24539</td>\n",
              "      <td>40</td>\n",
              "      <td>220.193.62.89</td>\n",
              "      <td>China</td>\n",
              "      <td>com</td>\n",
              "      <td>complete</td>\n",
              "      <td>yes</td>\n",
              "      <td>150.0</td>\n",
              "      <td>0.0</td>\n",
              "      <td>34 per two children. if we exercise simple pra...</td>\n",
              "      <td>good</td>\n",
              "    </tr>\n",
              "  </tbody>\n",
              "</table>\n",
              "</div>"
            ],
            "text/plain": [
              "   Unnamed: 0  ... label\n",
              "0           0  ...  good\n",
              "1           1  ...  good\n",
              "2           2  ...  good\n",
              "3           3  ...  good\n",
              "4           4  ...  good\n",
              "\n",
              "[5 rows x 12 columns]"
            ]
          },
          "metadata": {
            "tags": []
          },
          "execution_count": 5
        }
      ]
    },
    {
      "cell_type": "markdown",
      "metadata": {
        "id": "1eshU2XaSRew",
        "colab_type": "text"
      },
      "source": [
        "### Data Preprocessing"
      ]
    },
    {
      "cell_type": "code",
      "metadata": {
        "id": "Ot90N-YaSZZ4",
        "colab_type": "code",
        "outputId": "af58b778-1050-4644-a6c8-aac35651d564",
        "colab": {
          "base_uri": "https://localhost:8080/",
          "height": 87
        }
      },
      "source": [
        "# 看資料是否平衡\n",
        "train_df.groupby('label').size()"
      ],
      "execution_count": 6,
      "outputs": [
        {
          "output_type": "execute_result",
          "data": {
            "text/plain": [
              "label\n",
              "bad       27253\n",
              "good    1172747\n",
              "dtype: int64"
            ]
          },
          "metadata": {
            "tags": []
          },
          "execution_count": 6
        }
      ]
    },
    {
      "cell_type": "code",
      "metadata": {
        "id": "KvGnOtMi8J09",
        "colab_type": "code",
        "outputId": "47947ee1-1ffb-4fa8-ce5f-59ed35c8c45c",
        "colab": {
          "base_uri": "https://localhost:8080/",
          "height": 87
        }
      },
      "source": [
        "test_df.groupby('label').size()\n"
      ],
      "execution_count": 7,
      "outputs": [
        {
          "output_type": "execute_result",
          "data": {
            "text/plain": [
              "label\n",
              "bad       8062\n",
              "good    353872\n",
              "dtype: int64"
            ]
          },
          "metadata": {
            "tags": []
          },
          "execution_count": 7
        }
      ]
    },
    {
      "cell_type": "markdown",
      "metadata": {
        "id": "vsm-KHWzUxWD",
        "colab_type": "text"
      },
      "source": [
        "可以看出label good的資料量遠大於label bad的資料，存在資料不平衡的問題，我會先使用原先的資料集去訓練模型，若是模型效果不佳則會考慮使用oversampling or undersampling的方法處理資料，由於資料量差的倍數高達43倍且label bad的資料量不算少，因此預期使用undersampling的方法效果會比oversampling的方法好。"
      ]
    },
    {
      "cell_type": "markdown",
      "metadata": {
        "id": "bM6FtVasn75J",
        "colab_type": "text"
      },
      "source": [
        "資料Binary編碼"
      ]
    },
    {
      "cell_type": "code",
      "metadata": {
        "id": "R89aRFf-Uk3B",
        "colab_type": "code",
        "colab": {}
      },
      "source": [
        "# 將target資料轉為1,0\n",
        "\n",
        "y_train = train_df[\"label\"] == \"good\"\n",
        "y_train = y_train.astype(int)\n",
        "y_test = test_df[\"label\"] == \"good\"\n",
        "y_test = y_test.astype(int)"
      ],
      "execution_count": 0,
      "outputs": []
    },
    {
      "cell_type": "code",
      "metadata": {
        "id": "UuuqiiOTw_bw",
        "colab_type": "code",
        "colab": {}
      },
      "source": [
        "x_train = train_df.iloc[:, 1:-1]\n",
        "x_test = test_df.iloc[:, 1:-1]\n",
        "\n",
        "x_train[\"who_is\"] = (x_train[\"who_is\"] == \"complete\").astype(int)\n",
        "x_train[\"https\"] = (x_train[\"https\"] == \"yes\").astype(int)\n",
        "\n",
        "x_test[\"who_is\"] = (x_test[\"who_is\"] == \"complete\").astype(int)\n",
        "x_test[\"https\"] = (x_test[\"https\"] == \"yes\").astype(int)\n"
      ],
      "execution_count": 0,
      "outputs": []
    },
    {
      "cell_type": "code",
      "metadata": {
        "id": "oXsTZB_M3i3d",
        "colab_type": "code",
        "outputId": "410f6e20-368d-4d46-a4dc-e58021fb8c88",
        "colab": {
          "base_uri": "https://localhost:8080/",
          "height": 197
        }
      },
      "source": [
        "x_train.head()"
      ],
      "execution_count": 10,
      "outputs": [
        {
          "output_type": "execute_result",
          "data": {
            "text/html": [
              "<div>\n",
              "<style scoped>\n",
              "    .dataframe tbody tr th:only-of-type {\n",
              "        vertical-align: middle;\n",
              "    }\n",
              "\n",
              "    .dataframe tbody tr th {\n",
              "        vertical-align: top;\n",
              "    }\n",
              "\n",
              "    .dataframe thead th {\n",
              "        text-align: right;\n",
              "    }\n",
              "</style>\n",
              "<table border=\"1\" class=\"dataframe\">\n",
              "  <thead>\n",
              "    <tr style=\"text-align: right;\">\n",
              "      <th></th>\n",
              "      <th>url</th>\n",
              "      <th>url_len</th>\n",
              "      <th>ip_add</th>\n",
              "      <th>geo_loc</th>\n",
              "      <th>tld</th>\n",
              "      <th>who_is</th>\n",
              "      <th>https</th>\n",
              "      <th>js_len</th>\n",
              "      <th>js_obf_len</th>\n",
              "      <th>content</th>\n",
              "    </tr>\n",
              "  </thead>\n",
              "  <tbody>\n",
              "    <tr>\n",
              "      <th>0</th>\n",
              "      <td>http://members.tripod.com/russiastation/</td>\n",
              "      <td>40</td>\n",
              "      <td>42.77.221.155</td>\n",
              "      <td>Taiwan</td>\n",
              "      <td>com</td>\n",
              "      <td>1</td>\n",
              "      <td>1</td>\n",
              "      <td>58.0</td>\n",
              "      <td>0.0</td>\n",
              "      <td>Named themselves charged particles in a manly ...</td>\n",
              "    </tr>\n",
              "    <tr>\n",
              "      <th>1</th>\n",
              "      <td>http://www.ddj.com/cpp/184403822</td>\n",
              "      <td>32</td>\n",
              "      <td>3.211.202.180</td>\n",
              "      <td>United States</td>\n",
              "      <td>com</td>\n",
              "      <td>1</td>\n",
              "      <td>1</td>\n",
              "      <td>52.5</td>\n",
              "      <td>0.0</td>\n",
              "      <td>And filipino field \\n \\n \\n \\n \\n \\n \\n \\n the...</td>\n",
              "    </tr>\n",
              "    <tr>\n",
              "      <th>2</th>\n",
              "      <td>http://www.naef-usa.com/</td>\n",
              "      <td>24</td>\n",
              "      <td>24.232.54.41</td>\n",
              "      <td>Argentina</td>\n",
              "      <td>com</td>\n",
              "      <td>1</td>\n",
              "      <td>1</td>\n",
              "      <td>103.5</td>\n",
              "      <td>0.0</td>\n",
              "      <td>Took in cognitivism, whose adherents argue for...</td>\n",
              "    </tr>\n",
              "    <tr>\n",
              "      <th>3</th>\n",
              "      <td>http://www.ff-b2b.de/</td>\n",
              "      <td>21</td>\n",
              "      <td>147.22.38.45</td>\n",
              "      <td>United States</td>\n",
              "      <td>de</td>\n",
              "      <td>0</td>\n",
              "      <td>0</td>\n",
              "      <td>720.0</td>\n",
              "      <td>532.8</td>\n",
              "      <td>fire cumshot sodomize footaction tortur failed...</td>\n",
              "    </tr>\n",
              "    <tr>\n",
              "      <th>4</th>\n",
              "      <td>http://us.imdb.com/title/tt0176269/</td>\n",
              "      <td>35</td>\n",
              "      <td>205.30.239.85</td>\n",
              "      <td>United States</td>\n",
              "      <td>com</td>\n",
              "      <td>1</td>\n",
              "      <td>1</td>\n",
              "      <td>46.5</td>\n",
              "      <td>0.0</td>\n",
              "      <td>Levant, also monsignor georges. In 1800, lists...</td>\n",
              "    </tr>\n",
              "  </tbody>\n",
              "</table>\n",
              "</div>"
            ],
            "text/plain": [
              "                                        url  ...                                            content\n",
              "0  http://members.tripod.com/russiastation/  ...  Named themselves charged particles in a manly ...\n",
              "1          http://www.ddj.com/cpp/184403822  ...  And filipino field \\n \\n \\n \\n \\n \\n \\n \\n the...\n",
              "2                  http://www.naef-usa.com/  ...  Took in cognitivism, whose adherents argue for...\n",
              "3                     http://www.ff-b2b.de/  ...  fire cumshot sodomize footaction tortur failed...\n",
              "4       http://us.imdb.com/title/tt0176269/  ...  Levant, also monsignor georges. In 1800, lists...\n",
              "\n",
              "[5 rows x 10 columns]"
            ]
          },
          "metadata": {
            "tags": []
          },
          "execution_count": 10
        }
      ]
    },
    {
      "cell_type": "markdown",
      "metadata": {
        "id": "dPRjbn35JSI0",
        "colab_type": "text"
      },
      "source": [
        "### Modeling with original data\n"
      ]
    },
    {
      "cell_type": "code",
      "metadata": {
        "id": "Hl5txQGXJm6L",
        "colab_type": "code",
        "colab": {}
      },
      "source": [
        "# KNN\n",
        "\n",
        "\n",
        "# clf = KNeighborsClassifier(n_neighbors = 5, algorithm = 'auto')\n",
        "# clf.fit(x_train[[\"url_len\", \"who_is\", \"https\", \"js_len\", \"js_obf_len\"]], y_train)\n",
        "# y_pred = clf.predict(x_test[[\"url_len\", \"who_is\", \"https\", \"js_len\", \"js_obf_len\"]])\n",
        "\n",
        "# print(accuracy_score(y_test, y_pred))\n",
        "# print(classification_report(y_test, y_pred))\n",
        "# print(confusion_matrix(y_test, y_pred))"
      ],
      "execution_count": 0,
      "outputs": []
    },
    {
      "cell_type": "code",
      "metadata": {
        "id": "TDDRogtlQn3F",
        "colab_type": "code",
        "colab": {
          "base_uri": "https://localhost:8080/",
          "height": 510
        },
        "outputId": "1ed145c2-67cd-4ff1-ab01-3e64cd4eed2e"
      },
      "source": [
        "# random forest\n",
        "\n",
        "rfc = RandomForestClassifier()\n",
        "rfc.fit(x_train[[\"url_len\", \"who_is\", \"https\", \"js_len\", \"js_obf_len\"]], y_train)\n",
        "\n",
        "rfc_pred = rfc.predict(x_test[[\"url_len\", \"who_is\", \"https\", \"js_len\", \"js_obf_len\"]])\n",
        "\n",
        "print('Random Forest accuracy: ', accuracy_score(y_test, rfc_pred))\n",
        "print(classification_report(y_test, rfc_pred))\n",
        "print(confusion_matrix(y_test, rfc_pred))\n",
        "\n",
        "feature_names = [\"url_len\", \"who_is\", \"https\", \"js_len\", \"js_obf_len\"]\n",
        "tree_feature_importances = rfc.feature_importances_\n",
        "sorted_idx = rfc.feature_importances_.argsort()\n",
        "y_ticks = np.arange(0, len(feature_names))\n",
        "fig, ax = plt.subplots()\n",
        "ax.barh(y_ticks, tree_feature_importances[sorted_idx])\n",
        "ax.set_yticklabels(np.array(feature_names)[sorted_idx])\n",
        "ax.set_yticks(y_ticks)\n",
        "ax.set_title(\"Random Forest Feature Importances (MDI)\")\n",
        "fig.tight_layout()\n",
        "plt.show()"
      ],
      "execution_count": 12,
      "outputs": [
        {
          "output_type": "stream",
          "text": [
            "Random Forest accuracy:  0.9989445589527373\n",
            "              precision    recall  f1-score   support\n",
            "\n",
            "           0       1.00      0.95      0.98      8062\n",
            "           1       1.00      1.00      1.00    353872\n",
            "\n",
            "    accuracy                           1.00    361934\n",
            "   macro avg       1.00      0.98      0.99    361934\n",
            "weighted avg       1.00      1.00      1.00    361934\n",
            "\n",
            "[[  7692    370]\n",
            " [    12 353860]]\n"
          ],
          "name": "stdout"
        },
        {
          "output_type": "display_data",
          "data": {
            "image/png": "[encoded data removed]",
            "text/plain": [
              "<Figure size 432x288 with 1 Axes>"
            ]
          },
          "metadata": {
            "tags": [],
            "needs_background": "light"
          }
        }
      ]
    },
    {
      "cell_type": "markdown",
      "metadata": {
        "id": "G9kX2ObaoNHA",
        "colab_type": "text"
      },
      "source": [
        "數值資料正規化（MinMaxScaler Approach）"
      ]
    },
    {
      "cell_type": "code",
      "metadata": {
        "id": "k77SJBC6F4RB",
        "colab_type": "code",
        "colab": {}
      },
      "source": [
        "# train data normalize \n",
        "\n",
        "x_train[[\"url_len\", \"js_len\", \"js_obf_len\"]] = pd.DataFrame(MinMaxScaler().fit_transform(x_train[[\"url_len\", \"js_len\", \"js_obf_len\"]].astype(float)))\n"
      ],
      "execution_count": 0,
      "outputs": []
    },
    {
      "cell_type": "markdown",
      "metadata": {
        "id": "Gh561IBroXAt",
        "colab_type": "text"
      },
      "source": [
        "由於tld的one-hot encoding會導致維度過高（好幾千維），因此評估後決定捨棄tld這個column"
      ]
    },
    {
      "cell_type": "code",
      "metadata": {
        "id": "iPGvrRtZBsyi",
        "colab_type": "code",
        "colab": {}
      },
      "source": [
        "x_train_dum = pd.concat([x_train, pd.get_dummies(x_train.geo_loc, prefix='geo')], axis=1)\n",
        "# x_train_dum = pd.concat([x_train_dum, pd.get_dummies(x_train.tld, prefix='tld')], axis=1)"
      ],
      "execution_count": 0,
      "outputs": []
    },
    {
      "cell_type": "code",
      "metadata": {
        "id": "SMwIOwvvIob5",
        "colab_type": "code",
        "colab": {}
      },
      "source": [
        "# 將不需要的欄位drop掉\n",
        "x_train_dum = x_train_dum.drop(['url', 'geo_loc', 'tld', 'content', 'ip_add'], axis = 1)"
      ],
      "execution_count": 0,
      "outputs": []
    },
    {
      "cell_type": "code",
      "metadata": {
        "id": "YEkcPgivc3ML",
        "colab_type": "code",
        "colab": {}
      },
      "source": [
        "# test data normalize, one-hot encoding, drop columns\n",
        "x_test[[\"url_len\", \"js_len\", \"js_obf_len\"]] = pd.DataFrame(MinMaxScaler().fit_transform(x_test[[\"url_len\", \"js_len\", \"js_obf_len\"]].astype(float)))\n",
        "x_test_dum = pd.concat([x_test, pd.get_dummies(x_test.geo_loc, prefix='geo')], axis=1)\n",
        "x_test_dum = x_test_dum.drop(['url', 'geo_loc', 'tld', 'content', 'ip_add'], axis = 1)\n"
      ],
      "execution_count": 0,
      "outputs": []
    },
    {
      "cell_type": "code",
      "metadata": {
        "id": "fpglAOir6TCC",
        "colab_type": "code",
        "colab": {
          "base_uri": "https://localhost:8080/",
          "height": 296
        },
        "outputId": "b91822dd-b8f5-4d1e-e8fd-24474cc1a7d6"
      },
      "source": [
        "x_train_dum.head()"
      ],
      "execution_count": 31,
      "outputs": [
        {
          "output_type": "execute_result",
          "data": {
            "text/html": [
              "<div>\n",
              "<style scoped>\n",
              "    .dataframe tbody tr th:only-of-type {\n",
              "        vertical-align: middle;\n",
              "    }\n",
              "\n",
              "    .dataframe tbody tr th {\n",
              "        vertical-align: top;\n",
              "    }\n",
              "\n",
              "    .dataframe thead th {\n",
              "        text-align: right;\n",
              "    }\n",
              "</style>\n",
              "<table border=\"1\" class=\"dataframe\">\n",
              "  <thead>\n",
              "    <tr style=\"text-align: right;\">\n",
              "      <th></th>\n",
              "      <th>url_len</th>\n",
              "      <th>who_is</th>\n",
              "      <th>https</th>\n",
              "      <th>js_len</th>\n",
              "      <th>js_obf_len</th>\n",
              "      <th>geo_Afghanistan</th>\n",
              "      <th>geo_Albania</th>\n",
              "      <th>geo_Algeria</th>\n",
              "      <th>geo_American Samoa</th>\n",
              "      <th>geo_Andorra</th>\n",
              "      <th>geo_Angola</th>\n",
              "      <th>geo_Anguilla</th>\n",
              "      <th>geo_Antarctica</th>\n",
              "      <th>geo_Antigua and Barbuda</th>\n",
              "      <th>geo_Argentina</th>\n",
              "      <th>geo_Armenia</th>\n",
              "      <th>geo_Aruba</th>\n",
              "      <th>geo_Australia</th>\n",
              "      <th>geo_Austria</th>\n",
              "      <th>geo_Azerbaijan</th>\n",
              "      <th>geo_Bahamas</th>\n",
              "      <th>geo_Bahrain</th>\n",
              "      <th>geo_Bangladesh</th>\n",
              "      <th>geo_Barbados</th>\n",
              "      <th>geo_Belarus</th>\n",
              "      <th>geo_Belgium</th>\n",
              "      <th>geo_Belize</th>\n",
              "      <th>geo_Benin</th>\n",
              "      <th>geo_Bermuda</th>\n",
              "      <th>geo_Bhutan</th>\n",
              "      <th>geo_Bolivia</th>\n",
              "      <th>geo_Bonaire, Sint Eustatius, and Saba</th>\n",
              "      <th>geo_Bosnia and Herzegovina</th>\n",
              "      <th>geo_Botswana</th>\n",
              "      <th>geo_Brazil</th>\n",
              "      <th>geo_British Indian Ocean Territory</th>\n",
              "      <th>geo_British Virgin Islands</th>\n",
              "      <th>geo_Brunei</th>\n",
              "      <th>geo_Bulgaria</th>\n",
              "      <th>geo_Burkina Faso</th>\n",
              "      <th>...</th>\n",
              "      <th>geo_South Korea</th>\n",
              "      <th>geo_South Sudan</th>\n",
              "      <th>geo_Spain</th>\n",
              "      <th>geo_Sri Lanka</th>\n",
              "      <th>geo_St Kitts and Nevis</th>\n",
              "      <th>geo_Sudan</th>\n",
              "      <th>geo_Suriname</th>\n",
              "      <th>geo_Sweden</th>\n",
              "      <th>geo_Switzerland</th>\n",
              "      <th>geo_Syria</th>\n",
              "      <th>geo_São Tomé and Príncipe</th>\n",
              "      <th>geo_Taiwan</th>\n",
              "      <th>geo_Tajikistan</th>\n",
              "      <th>geo_Tanzania</th>\n",
              "      <th>geo_Thailand</th>\n",
              "      <th>geo_Togo</th>\n",
              "      <th>geo_Tonga</th>\n",
              "      <th>geo_Trinidad and Tobago</th>\n",
              "      <th>geo_Tunisia</th>\n",
              "      <th>geo_Turkey</th>\n",
              "      <th>geo_Turkmenistan</th>\n",
              "      <th>geo_Turks and Caicos Islands</th>\n",
              "      <th>geo_Tuvalu</th>\n",
              "      <th>geo_U.S. Virgin Islands</th>\n",
              "      <th>geo_Uganda</th>\n",
              "      <th>geo_Ukraine</th>\n",
              "      <th>geo_United Arab Emirates</th>\n",
              "      <th>geo_United Kingdom</th>\n",
              "      <th>geo_United States</th>\n",
              "      <th>geo_Uruguay</th>\n",
              "      <th>geo_Uzbekistan</th>\n",
              "      <th>geo_Vanuatu</th>\n",
              "      <th>geo_Vatican City</th>\n",
              "      <th>geo_Venezuela</th>\n",
              "      <th>geo_Vietnam</th>\n",
              "      <th>geo_Wallis and Futuna</th>\n",
              "      <th>geo_Yemen</th>\n",
              "      <th>geo_Zambia</th>\n",
              "      <th>geo_Zimbabwe</th>\n",
              "      <th>geo_Åland</th>\n",
              "    </tr>\n",
              "  </thead>\n",
              "  <tbody>\n",
              "    <tr>\n",
              "      <th>0</th>\n",
              "      <td>0.039492</td>\n",
              "      <td>1</td>\n",
              "      <td>1</td>\n",
              "      <td>0.067908</td>\n",
              "      <td>0.000000</td>\n",
              "      <td>0</td>\n",
              "      <td>0</td>\n",
              "      <td>0</td>\n",
              "      <td>0</td>\n",
              "      <td>0</td>\n",
              "      <td>0</td>\n",
              "      <td>0</td>\n",
              "      <td>0</td>\n",
              "      <td>0</td>\n",
              "      <td>0</td>\n",
              "      <td>0</td>\n",
              "      <td>0</td>\n",
              "      <td>0</td>\n",
              "      <td>0</td>\n",
              "      <td>0</td>\n",
              "      <td>0</td>\n",
              "      <td>0</td>\n",
              "      <td>0</td>\n",
              "      <td>0</td>\n",
              "      <td>0</td>\n",
              "      <td>0</td>\n",
              "      <td>0</td>\n",
              "      <td>0</td>\n",
              "      <td>0</td>\n",
              "      <td>0</td>\n",
              "      <td>0</td>\n",
              "      <td>0</td>\n",
              "      <td>0</td>\n",
              "      <td>0</td>\n",
              "      <td>0</td>\n",
              "      <td>0</td>\n",
              "      <td>0</td>\n",
              "      <td>0</td>\n",
              "      <td>0</td>\n",
              "      <td>0</td>\n",
              "      <td>...</td>\n",
              "      <td>0</td>\n",
              "      <td>0</td>\n",
              "      <td>0</td>\n",
              "      <td>0</td>\n",
              "      <td>0</td>\n",
              "      <td>0</td>\n",
              "      <td>0</td>\n",
              "      <td>0</td>\n",
              "      <td>0</td>\n",
              "      <td>0</td>\n",
              "      <td>0</td>\n",
              "      <td>1</td>\n",
              "      <td>0</td>\n",
              "      <td>0</td>\n",
              "      <td>0</td>\n",
              "      <td>0</td>\n",
              "      <td>0</td>\n",
              "      <td>0</td>\n",
              "      <td>0</td>\n",
              "      <td>0</td>\n",
              "      <td>0</td>\n",
              "      <td>0</td>\n",
              "      <td>0</td>\n",
              "      <td>0</td>\n",
              "      <td>0</td>\n",
              "      <td>0</td>\n",
              "      <td>0</td>\n",
              "      <td>0</td>\n",
              "      <td>0</td>\n",
              "      <td>0</td>\n",
              "      <td>0</td>\n",
              "      <td>0</td>\n",
              "      <td>0</td>\n",
              "      <td>0</td>\n",
              "      <td>0</td>\n",
              "      <td>0</td>\n",
              "      <td>0</td>\n",
              "      <td>0</td>\n",
              "      <td>0</td>\n",
              "      <td>0</td>\n",
              "    </tr>\n",
              "    <tr>\n",
              "      <th>1</th>\n",
              "      <td>0.028209</td>\n",
              "      <td>1</td>\n",
              "      <td>1</td>\n",
              "      <td>0.061468</td>\n",
              "      <td>0.000000</td>\n",
              "      <td>0</td>\n",
              "      <td>0</td>\n",
              "      <td>0</td>\n",
              "      <td>0</td>\n",
              "      <td>0</td>\n",
              "      <td>0</td>\n",
              "      <td>0</td>\n",
              "      <td>0</td>\n",
              "      <td>0</td>\n",
              "      <td>0</td>\n",
              "      <td>0</td>\n",
              "      <td>0</td>\n",
              "      <td>0</td>\n",
              "      <td>0</td>\n",
              "      <td>0</td>\n",
              "      <td>0</td>\n",
              "      <td>0</td>\n",
              "      <td>0</td>\n",
              "      <td>0</td>\n",
              "      <td>0</td>\n",
              "      <td>0</td>\n",
              "      <td>0</td>\n",
              "      <td>0</td>\n",
              "      <td>0</td>\n",
              "      <td>0</td>\n",
              "      <td>0</td>\n",
              "      <td>0</td>\n",
              "      <td>0</td>\n",
              "      <td>0</td>\n",
              "      <td>0</td>\n",
              "      <td>0</td>\n",
              "      <td>0</td>\n",
              "      <td>0</td>\n",
              "      <td>0</td>\n",
              "      <td>0</td>\n",
              "      <td>...</td>\n",
              "      <td>0</td>\n",
              "      <td>0</td>\n",
              "      <td>0</td>\n",
              "      <td>0</td>\n",
              "      <td>0</td>\n",
              "      <td>0</td>\n",
              "      <td>0</td>\n",
              "      <td>0</td>\n",
              "      <td>0</td>\n",
              "      <td>0</td>\n",
              "      <td>0</td>\n",
              "      <td>0</td>\n",
              "      <td>0</td>\n",
              "      <td>0</td>\n",
              "      <td>0</td>\n",
              "      <td>0</td>\n",
              "      <td>0</td>\n",
              "      <td>0</td>\n",
              "      <td>0</td>\n",
              "      <td>0</td>\n",
              "      <td>0</td>\n",
              "      <td>0</td>\n",
              "      <td>0</td>\n",
              "      <td>0</td>\n",
              "      <td>0</td>\n",
              "      <td>0</td>\n",
              "      <td>0</td>\n",
              "      <td>0</td>\n",
              "      <td>1</td>\n",
              "      <td>0</td>\n",
              "      <td>0</td>\n",
              "      <td>0</td>\n",
              "      <td>0</td>\n",
              "      <td>0</td>\n",
              "      <td>0</td>\n",
              "      <td>0</td>\n",
              "      <td>0</td>\n",
              "      <td>0</td>\n",
              "      <td>0</td>\n",
              "      <td>0</td>\n",
              "    </tr>\n",
              "    <tr>\n",
              "      <th>2</th>\n",
              "      <td>0.016925</td>\n",
              "      <td>1</td>\n",
              "      <td>1</td>\n",
              "      <td>0.121180</td>\n",
              "      <td>0.000000</td>\n",
              "      <td>0</td>\n",
              "      <td>0</td>\n",
              "      <td>0</td>\n",
              "      <td>0</td>\n",
              "      <td>0</td>\n",
              "      <td>0</td>\n",
              "      <td>0</td>\n",
              "      <td>0</td>\n",
              "      <td>0</td>\n",
              "      <td>1</td>\n",
              "      <td>0</td>\n",
              "      <td>0</td>\n",
              "      <td>0</td>\n",
              "      <td>0</td>\n",
              "      <td>0</td>\n",
              "      <td>0</td>\n",
              "      <td>0</td>\n",
              "      <td>0</td>\n",
              "      <td>0</td>\n",
              "      <td>0</td>\n",
              "      <td>0</td>\n",
              "      <td>0</td>\n",
              "      <td>0</td>\n",
              "      <td>0</td>\n",
              "      <td>0</td>\n",
              "      <td>0</td>\n",
              "      <td>0</td>\n",
              "      <td>0</td>\n",
              "      <td>0</td>\n",
              "      <td>0</td>\n",
              "      <td>0</td>\n",
              "      <td>0</td>\n",
              "      <td>0</td>\n",
              "      <td>0</td>\n",
              "      <td>0</td>\n",
              "      <td>...</td>\n",
              "      <td>0</td>\n",
              "      <td>0</td>\n",
              "      <td>0</td>\n",
              "      <td>0</td>\n",
              "      <td>0</td>\n",
              "      <td>0</td>\n",
              "      <td>0</td>\n",
              "      <td>0</td>\n",
              "      <td>0</td>\n",
              "      <td>0</td>\n",
              "      <td>0</td>\n",
              "      <td>0</td>\n",
              "      <td>0</td>\n",
              "      <td>0</td>\n",
              "      <td>0</td>\n",
              "      <td>0</td>\n",
              "      <td>0</td>\n",
              "      <td>0</td>\n",
              "      <td>0</td>\n",
              "      <td>0</td>\n",
              "      <td>0</td>\n",
              "      <td>0</td>\n",
              "      <td>0</td>\n",
              "      <td>0</td>\n",
              "      <td>0</td>\n",
              "      <td>0</td>\n",
              "      <td>0</td>\n",
              "      <td>0</td>\n",
              "      <td>0</td>\n",
              "      <td>0</td>\n",
              "      <td>0</td>\n",
              "      <td>0</td>\n",
              "      <td>0</td>\n",
              "      <td>0</td>\n",
              "      <td>0</td>\n",
              "      <td>0</td>\n",
              "      <td>0</td>\n",
              "      <td>0</td>\n",
              "      <td>0</td>\n",
              "      <td>0</td>\n",
              "    </tr>\n",
              "    <tr>\n",
              "      <th>3</th>\n",
              "      <td>0.012694</td>\n",
              "      <td>0</td>\n",
              "      <td>0</td>\n",
              "      <td>0.842993</td>\n",
              "      <td>0.663632</td>\n",
              "      <td>0</td>\n",
              "      <td>0</td>\n",
              "      <td>0</td>\n",
              "      <td>0</td>\n",
              "      <td>0</td>\n",
              "      <td>0</td>\n",
              "      <td>0</td>\n",
              "      <td>0</td>\n",
              "      <td>0</td>\n",
              "      <td>0</td>\n",
              "      <td>0</td>\n",
              "      <td>0</td>\n",
              "      <td>0</td>\n",
              "      <td>0</td>\n",
              "      <td>0</td>\n",
              "      <td>0</td>\n",
              "      <td>0</td>\n",
              "      <td>0</td>\n",
              "      <td>0</td>\n",
              "      <td>0</td>\n",
              "      <td>0</td>\n",
              "      <td>0</td>\n",
              "      <td>0</td>\n",
              "      <td>0</td>\n",
              "      <td>0</td>\n",
              "      <td>0</td>\n",
              "      <td>0</td>\n",
              "      <td>0</td>\n",
              "      <td>0</td>\n",
              "      <td>0</td>\n",
              "      <td>0</td>\n",
              "      <td>0</td>\n",
              "      <td>0</td>\n",
              "      <td>0</td>\n",
              "      <td>0</td>\n",
              "      <td>...</td>\n",
              "      <td>0</td>\n",
              "      <td>0</td>\n",
              "      <td>0</td>\n",
              "      <td>0</td>\n",
              "      <td>0</td>\n",
              "      <td>0</td>\n",
              "      <td>0</td>\n",
              "      <td>0</td>\n",
              "      <td>0</td>\n",
              "      <td>0</td>\n",
              "      <td>0</td>\n",
              "      <td>0</td>\n",
              "      <td>0</td>\n",
              "      <td>0</td>\n",
              "      <td>0</td>\n",
              "      <td>0</td>\n",
              "      <td>0</td>\n",
              "      <td>0</td>\n",
              "      <td>0</td>\n",
              "      <td>0</td>\n",
              "      <td>0</td>\n",
              "      <td>0</td>\n",
              "      <td>0</td>\n",
              "      <td>0</td>\n",
              "      <td>0</td>\n",
              "      <td>0</td>\n",
              "      <td>0</td>\n",
              "      <td>0</td>\n",
              "      <td>1</td>\n",
              "      <td>0</td>\n",
              "      <td>0</td>\n",
              "      <td>0</td>\n",
              "      <td>0</td>\n",
              "      <td>0</td>\n",
              "      <td>0</td>\n",
              "      <td>0</td>\n",
              "      <td>0</td>\n",
              "      <td>0</td>\n",
              "      <td>0</td>\n",
              "      <td>0</td>\n",
              "    </tr>\n",
              "    <tr>\n",
              "      <th>4</th>\n",
              "      <td>0.032440</td>\n",
              "      <td>1</td>\n",
              "      <td>1</td>\n",
              "      <td>0.054443</td>\n",
              "      <td>0.000000</td>\n",
              "      <td>0</td>\n",
              "      <td>0</td>\n",
              "      <td>0</td>\n",
              "      <td>0</td>\n",
              "      <td>0</td>\n",
              "      <td>0</td>\n",
              "      <td>0</td>\n",
              "      <td>0</td>\n",
              "      <td>0</td>\n",
              "      <td>0</td>\n",
              "      <td>0</td>\n",
              "      <td>0</td>\n",
              "      <td>0</td>\n",
              "      <td>0</td>\n",
              "      <td>0</td>\n",
              "      <td>0</td>\n",
              "      <td>0</td>\n",
              "      <td>0</td>\n",
              "      <td>0</td>\n",
              "      <td>0</td>\n",
              "      <td>0</td>\n",
              "      <td>0</td>\n",
              "      <td>0</td>\n",
              "      <td>0</td>\n",
              "      <td>0</td>\n",
              "      <td>0</td>\n",
              "      <td>0</td>\n",
              "      <td>0</td>\n",
              "      <td>0</td>\n",
              "      <td>0</td>\n",
              "      <td>0</td>\n",
              "      <td>0</td>\n",
              "      <td>0</td>\n",
              "      <td>0</td>\n",
              "      <td>0</td>\n",
              "      <td>...</td>\n",
              "      <td>0</td>\n",
              "      <td>0</td>\n",
              "      <td>0</td>\n",
              "      <td>0</td>\n",
              "      <td>0</td>\n",
              "      <td>0</td>\n",
              "      <td>0</td>\n",
              "      <td>0</td>\n",
              "      <td>0</td>\n",
              "      <td>0</td>\n",
              "      <td>0</td>\n",
              "      <td>0</td>\n",
              "      <td>0</td>\n",
              "      <td>0</td>\n",
              "      <td>0</td>\n",
              "      <td>0</td>\n",
              "      <td>0</td>\n",
              "      <td>0</td>\n",
              "      <td>0</td>\n",
              "      <td>0</td>\n",
              "      <td>0</td>\n",
              "      <td>0</td>\n",
              "      <td>0</td>\n",
              "      <td>0</td>\n",
              "      <td>0</td>\n",
              "      <td>0</td>\n",
              "      <td>0</td>\n",
              "      <td>0</td>\n",
              "      <td>1</td>\n",
              "      <td>0</td>\n",
              "      <td>0</td>\n",
              "      <td>0</td>\n",
              "      <td>0</td>\n",
              "      <td>0</td>\n",
              "      <td>0</td>\n",
              "      <td>0</td>\n",
              "      <td>0</td>\n",
              "      <td>0</td>\n",
              "      <td>0</td>\n",
              "      <td>0</td>\n",
              "    </tr>\n",
              "  </tbody>\n",
              "</table>\n",
              "<p>5 rows × 239 columns</p>\n",
              "</div>"
            ],
            "text/plain": [
              "    url_len  who_is  https  ...  geo_Zambia  geo_Zimbabwe  geo_Åland\n",
              "0  0.039492       1      1  ...           0             0          0\n",
              "1  0.028209       1      1  ...           0             0          0\n",
              "2  0.016925       1      1  ...           0             0          0\n",
              "3  0.012694       0      0  ...           0             0          0\n",
              "4  0.032440       1      1  ...           0             0          0\n",
              "\n",
              "[5 rows x 239 columns]"
            ]
          },
          "metadata": {
            "tags": []
          },
          "execution_count": 31
        }
      ]
    },
    {
      "cell_type": "markdown",
      "metadata": {
        "id": "frILtz19t2kr",
        "colab_type": "text"
      },
      "source": [
        "### PCA\n",
        "降維並觀察explained variance"
      ]
    },
    {
      "cell_type": "code",
      "metadata": {
        "id": "jm5MHIJJJd6R",
        "colab_type": "code",
        "colab": {
          "base_uri": "https://localhost:8080/",
          "height": 443
        },
        "outputId": "40c6976a-33b4-4b81-b399-ebf8fccc3378"
      },
      "source": [
        "\n",
        "\n",
        "features_pca = decomposition.PCA(n_components=50)\n",
        "features_pca.fit(x_train_dum)\n",
        "plt.figure()\n",
        "plt.plot(np.cumsum(features_pca.explained_variance_ratio_))\n",
        "plt.xlabel('Number of Components')\n",
        "plt.ylabel('Total explained variance')\n",
        "plt.show()\n",
        "\n",
        "print(features_pca.explained_variance_ratio_)"
      ],
      "execution_count": 17,
      "outputs": [
        {
          "output_type": "display_data",
          "data": {
            "image/png": "[encoded data removed]",
            "text/plain": [
              "<Figure size 432x288 with 1 Axes>"
            ]
          },
          "metadata": {
            "tags": [],
            "needs_background": "light"
          }
        },
        {
          "output_type": "stream",
          "text": [
            "[0.22615058 0.15715984 0.13744073 0.07121294 0.04467293 0.02948856\n",
            " 0.02704819 0.02394841 0.02034318 0.01822929 0.0154623  0.01292534\n",
            " 0.01224393 0.0119864  0.01145319 0.01047321 0.00933997 0.00836004\n",
            " 0.00764305 0.00687256 0.00656147 0.00613062 0.00557941 0.00503914\n",
            " 0.00487149 0.00464486 0.00436713 0.00412562 0.00399369 0.00386558\n",
            " 0.00373987 0.00362128 0.00337717 0.00318218 0.00311037 0.00301267\n",
            " 0.00293455 0.00288003 0.00276782 0.00268098 0.00253258 0.0024309\n",
            " 0.00224113 0.00214039 0.00207289 0.00190917 0.0018303  0.00179363\n",
            " 0.00171184 0.00165912]\n"
          ],
          "name": "stdout"
        }
      ]
    },
    {
      "cell_type": "markdown",
      "metadata": {
        "id": "tN4zTxN2pGQ3",
        "colab_type": "text"
      },
      "source": [
        "從上圖可以看出大約在PCA=20時，保留的variance成長趨勢漸趨平緩，因此接下來的modeling會使用PCA=20的維度"
      ]
    },
    {
      "cell_type": "markdown",
      "metadata": {
        "id": "r2dmN7jlpe8U",
        "colab_type": "text"
      },
      "source": [
        "下圖嘗試用PCA1和PCA2畫散佈圖"
      ]
    },
    {
      "cell_type": "code",
      "metadata": {
        "id": "A3QOV33PAloI",
        "colab_type": "code",
        "outputId": "7a1592d0-cd6e-4e66-9404-e0bd0dd25751",
        "colab": {
          "base_uri": "https://localhost:8080/",
          "height": 387
        }
      },
      "source": [
        "fig = plt.figure(figsize=(8,6))\n",
        "\n",
        "\n",
        "features_pca = decomposition.PCA(n_components=2)\n",
        "features_pca.fit(x_train_dum)\n",
        "X_pca = features_pca.transform(x_train_dum)\n",
        "colormap = np.array(['#EA6544', '#298CC4'])\n",
        "\n",
        "plt.scatter(X_pca[:,0], X_pca[:,1], c = colormap[y_train])\n",
        "\n",
        "good_lab = mpatches.Patch(color='#EA6544', label='Benign')\n",
        "bad_lab = mpatches.Patch(color='#298CC4', label='Malicious')\n",
        "\n",
        "plt.legend(handles=[good_lab, bad_lab])\n",
        "\n",
        "plt.xlabel('PC1')\n",
        "plt.ylabel('PC2')\n",
        "plt.show()"
      ],
      "execution_count": 18,
      "outputs": [
        {
          "output_type": "display_data",
          "data": {
            "image/png": "[encoded data removed]",
            "text/plain": [
              "<Figure size 576x432 with 1 Axes>"
            ]
          },
          "metadata": {
            "tags": [],
            "needs_background": "light"
          }
        }
      ]
    },
    {
      "cell_type": "markdown",
      "metadata": {
        "id": "_wgFxQDLp7fV",
        "colab_type": "text"
      },
      "source": [
        "使testing data的columns和training data一樣"
      ]
    },
    {
      "cell_type": "code",
      "metadata": {
        "id": "qokQ_1sK6Rsw",
        "colab_type": "code",
        "colab": {}
      },
      "source": [
        "for col in x_train_dum.columns:\n",
        "  if col not in x_test_dum.columns:\n",
        "    x_test_dum[col] = 0\n",
        "\n",
        "for col in x_test_dum.columns:\n",
        "  if col not in x_train_dum.columns:\n",
        "    x_test_dum = x_test_dum.drop([col], axis=1)"
      ],
      "execution_count": 0,
      "outputs": []
    },
    {
      "cell_type": "code",
      "metadata": {
        "id": "uqmnxzjS3ehX",
        "colab_type": "code",
        "colab": {}
      },
      "source": [
        "features_pca = decomposition.PCA(n_components=20)\n",
        "features_pca.fit(x_train_dum)\n",
        "\n",
        "x_train_dum_pca = features_pca.transform(x_train_dum)\n",
        "x_test_dum_pca = features_pca.transform(x_test_dum)\n"
      ],
      "execution_count": 0,
      "outputs": []
    },
    {
      "cell_type": "markdown",
      "metadata": {
        "id": "6N8hmvo-t6hl",
        "colab_type": "text"
      },
      "source": [
        "### Model and Accuracy"
      ]
    },
    {
      "cell_type": "markdown",
      "metadata": {
        "id": "754-7EPd7_IM",
        "colab_type": "text"
      },
      "source": [
        "#### KNN"
      ]
    },
    {
      "cell_type": "code",
      "metadata": {
        "id": "BGr4gFCbchlJ",
        "colab_type": "code",
        "outputId": "86f8d801-6283-42b2-c381-488239f01411",
        "colab": {
          "base_uri": "https://localhost:8080/",
          "height": 70
        }
      },
      "source": [
        "# KNN\n",
        "\n",
        "clf = KNeighborsClassifier(n_neighbors = 5, algorithm = 'auto')\n",
        "clf.fit(x_train_dum_pca, y_train)\n"
      ],
      "execution_count": 21,
      "outputs": [
        {
          "output_type": "execute_result",
          "data": {
            "text/plain": [
              "KNeighborsClassifier(algorithm='auto', leaf_size=30, metric='minkowski',\n",
              "                     metric_params=None, n_jobs=None, n_neighbors=5, p=2,\n",
              "                     weights='uniform')"
            ]
          },
          "metadata": {
            "tags": []
          },
          "execution_count": 21
        }
      ]
    },
    {
      "cell_type": "code",
      "metadata": {
        "id": "9ibVHh50dQiS",
        "colab_type": "code",
        "outputId": "c56370c0-1455-40f2-a3a0-15ff3e4f175b",
        "colab": {
          "base_uri": "https://localhost:8080/",
          "height": 230
        }
      },
      "source": [
        "y_pred = clf.predict(x_test_dum_pca)\n",
        "# acc = clf.score(x_test_dum_pca, y_test)\n",
        "# print(\"ACC: {}.\".format(round(acc,4)))\n",
        "print(\"KNN Accuracy: \",accuracy_score(y_test, y_pred))\n",
        "print(classification_report(y_test, y_pred))\n",
        "print(confusion_matrix(y_test, y_pred))"
      ],
      "execution_count": 22,
      "outputs": [
        {
          "output_type": "stream",
          "text": [
            "KNN Accuracy:  0.9988727226510911\n",
            "              precision    recall  f1-score   support\n",
            "\n",
            "           0       0.99      0.96      0.97      8062\n",
            "           1       1.00      1.00      1.00    353872\n",
            "\n",
            "    accuracy                           1.00    361934\n",
            "   macro avg       1.00      0.98      0.99    361934\n",
            "weighted avg       1.00      1.00      1.00    361934\n",
            "\n",
            "[[  7700    362]\n",
            " [    46 353826]]\n"
          ],
          "name": "stdout"
        }
      ]
    },
    {
      "cell_type": "markdown",
      "metadata": {
        "id": "nrxXiT2h74SV",
        "colab_type": "text"
      },
      "source": [
        "#### Random Forest"
      ]
    },
    {
      "cell_type": "code",
      "metadata": {
        "id": "ygrEwFOj73PI",
        "colab_type": "code",
        "outputId": "608a9d9f-e01e-4d2e-d414-93106fd374b9",
        "colab": {
          "base_uri": "https://localhost:8080/",
          "height": 230
        }
      },
      "source": [
        "\n",
        "rfc = RandomForestClassifier()\n",
        "rfc.fit(x_train_dum_pca, y_train)\n",
        "\n",
        "rfc_pred = rfc.predict(x_test_dum_pca)\n",
        "print('Random Forest accuracy: ', accuracy_score(y_test, rfc_pred))\n",
        "print(classification_report(y_test, rfc_pred))\n",
        "print(confusion_matrix(y_test, rfc_pred))"
      ],
      "execution_count": 23,
      "outputs": [
        {
          "output_type": "stream",
          "text": [
            "Random Forest accuracy:  0.9988229898268746\n",
            "              precision    recall  f1-score   support\n",
            "\n",
            "           0       0.99      0.96      0.97      8062\n",
            "           1       1.00      1.00      1.00    353872\n",
            "\n",
            "    accuracy                           1.00    361934\n",
            "   macro avg       0.99      0.98      0.99    361934\n",
            "weighted avg       1.00      1.00      1.00    361934\n",
            "\n",
            "[[  7716    346]\n",
            " [    80 353792]]\n"
          ],
          "name": "stdout"
        }
      ]
    },
    {
      "cell_type": "markdown",
      "metadata": {
        "id": "2pmzKdVYt_cc",
        "colab_type": "text"
      },
      "source": [
        "### Random Undersampling Data\n"
      ]
    },
    {
      "cell_type": "code",
      "metadata": {
        "id": "fuYCM4BFuGI-",
        "colab_type": "code",
        "outputId": "3adf7193-a134-40f9-d59a-bb39ff68fc46",
        "colab": {
          "base_uri": "https://localhost:8080/",
          "height": 143
        }
      },
      "source": [
        "from imblearn.under_sampling import RandomUnderSampler\n",
        "\n",
        "rus = RandomUnderSampler(random_state=0)\n",
        "X_resampled, y_resampled = rus.fit_resample(x_train_dum_pca, y_train)"
      ],
      "execution_count": 24,
      "outputs": [
        {
          "output_type": "stream",
          "text": [
            "/usr/local/lib/python3.6/dist-packages/sklearn/externals/six.py:31: FutureWarning: The module is deprecated in version 0.21 and will be removed in version 0.23 since we've dropped support for Python 2.7. Please rely on the official version of six (https://pypi.org/project/six/).\n",
            "  \"(https://pypi.org/project/six/).\", FutureWarning)\n",
            "/usr/local/lib/python3.6/dist-packages/sklearn/utils/deprecation.py:144: FutureWarning: The sklearn.neighbors.base module is  deprecated in version 0.22 and will be removed in version 0.24. The corresponding classes / functions should instead be imported from sklearn.neighbors. Anything that cannot be imported from sklearn.neighbors is now part of the private API.\n",
            "  warnings.warn(message, FutureWarning)\n",
            "/usr/local/lib/python3.6/dist-packages/sklearn/utils/deprecation.py:87: FutureWarning: Function safe_indexing is deprecated; safe_indexing is deprecated in version 0.22 and will be removed in version 0.24.\n",
            "  warnings.warn(msg, category=FutureWarning)\n"
          ],
          "name": "stderr"
        }
      ]
    },
    {
      "cell_type": "code",
      "metadata": {
        "id": "LGWcs0ORwET7",
        "colab_type": "code",
        "outputId": "c0ae1fd8-e97e-4ae0-c9c1-8c9d80d7097d",
        "colab": {
          "base_uri": "https://localhost:8080/",
          "height": 34
        }
      },
      "source": [
        "y_resampled.size"
      ],
      "execution_count": 25,
      "outputs": [
        {
          "output_type": "execute_result",
          "data": {
            "text/plain": [
              "54506"
            ]
          },
          "metadata": {
            "tags": []
          },
          "execution_count": 25
        }
      ]
    },
    {
      "cell_type": "markdown",
      "metadata": {
        "id": "sEPWpcMn9PYe",
        "colab_type": "text"
      },
      "source": [
        "#### KNN"
      ]
    },
    {
      "cell_type": "code",
      "metadata": {
        "id": "xOPn3F_zx64r",
        "colab_type": "code",
        "outputId": "317735da-3585-4c21-dfe3-fd0aa2d1ccdf",
        "colab": {
          "base_uri": "https://localhost:8080/",
          "height": 230
        }
      },
      "source": [
        "clf = KNeighborsClassifier(n_neighbors = 5, algorithm = 'auto')\n",
        "clf.fit(X_resampled, y_resampled)\n",
        "\n",
        "y_pred = clf.predict(x_test_dum_pca)\n",
        "# acc = clf.score(x_test_dum_pca, y_test)\n",
        "# print(\"ACC: {}.\".format(round(acc,4)))\n",
        "print(accuracy_score(y_test, y_pred))\n",
        "print(classification_report(y_test, y_pred))\n",
        "print(confusion_matrix(y_test, y_pred))"
      ],
      "execution_count": 26,
      "outputs": [
        {
          "output_type": "stream",
          "text": [
            "0.997060237501865\n",
            "              precision    recall  f1-score   support\n",
            "\n",
            "           0       0.89      0.99      0.94      8062\n",
            "           1       1.00      1.00      1.00    353872\n",
            "\n",
            "    accuracy                           1.00    361934\n",
            "   macro avg       0.94      0.99      0.97    361934\n",
            "weighted avg       1.00      1.00      1.00    361934\n",
            "\n",
            "[[  7993     69]\n",
            " [   995 352877]]\n"
          ],
          "name": "stdout"
        }
      ]
    },
    {
      "cell_type": "markdown",
      "metadata": {
        "id": "z4jBAhhA9RXA",
        "colab_type": "text"
      },
      "source": [
        "#### Random Forest"
      ]
    },
    {
      "cell_type": "code",
      "metadata": {
        "id": "MH7wfECo9UJj",
        "colab_type": "code",
        "outputId": "a058a303-7a43-40b0-c29d-5d719b57fbd8",
        "colab": {
          "base_uri": "https://localhost:8080/",
          "height": 230
        }
      },
      "source": [
        "rfc = RandomForestClassifier()\n",
        "rfc.fit(X_resampled, y_resampled)\n",
        "\n",
        "rfc_pred = rfc.predict(x_test_dum_pca)\n",
        "print('Random Forest accuracy: ', accuracy_score(y_test, rfc_pred))\n",
        "print(classification_report(y_test, rfc_pred))\n",
        "print(confusion_matrix(y_test, rfc_pred))"
      ],
      "execution_count": 27,
      "outputs": [
        {
          "output_type": "stream",
          "text": [
            "Random Forest accuracy:  0.9905562892682092\n",
            "              precision    recall  f1-score   support\n",
            "\n",
            "           0       0.70      1.00      0.82      8062\n",
            "           1       1.00      0.99      1.00    353872\n",
            "\n",
            "    accuracy                           0.99    361934\n",
            "   macro avg       0.85      0.99      0.91    361934\n",
            "weighted avg       0.99      0.99      0.99    361934\n",
            "\n",
            "[[  8024     38]\n",
            " [  3380 350492]]\n"
          ],
          "name": "stdout"
        }
      ]
    },
    {
      "cell_type": "markdown",
      "metadata": {
        "id": "44b0b2lskT9H",
        "colab_type": "text"
      },
      "source": [
        "### Neural Network Model\n"
      ]
    },
    {
      "cell_type": "code",
      "metadata": {
        "id": "9eaYP4e2iNMJ",
        "colab_type": "code",
        "colab": {}
      },
      "source": [
        "model = keras.Sequential([\n",
        "    layers.Dense(128, activation='relu'),\n",
        "    layers.Dense(32, activation='relu'),\n",
        "    keras.layers.Dropout(0.1),\n",
        "    keras.layers.Dense(1, activation='sigmoid')\n",
        "])\n",
        "\n",
        "model.compile(optimizer='adam',\n",
        "              loss=keras.losses.BinaryCrossentropy(from_logits=True),\n",
        "              metrics=[\n",
        "                keras.metrics.TruePositives(name='tp'),\n",
        "                keras.metrics.FalsePositives(name='fp'),\n",
        "                keras.metrics.TrueNegatives(name='tn'),\n",
        "                keras.metrics.FalseNegatives(name='fn'), \n",
        "                keras.metrics.BinaryAccuracy(name='accuracy'),\n",
        "                keras.metrics.Precision(name='precision'),\n",
        "                keras.metrics.Recall(name='recall'),\n",
        "                keras.metrics.AUC(name='auc'),\n",
        "                ])\n"
      ],
      "execution_count": 0,
      "outputs": []
    },
    {
      "cell_type": "code",
      "metadata": {
        "id": "z6gHx_f1idl6",
        "colab_type": "code",
        "colab": {
          "base_uri": "https://localhost:8080/",
          "height": 374
        },
        "outputId": "1898281a-0222-4001-f048-69124c162f5c"
      },
      "source": [
        "early_stop = keras.callbacks.EarlyStopping(monitor='auc', \n",
        "    verbose=1,\n",
        "    patience=5,\n",
        "    mode='max',\n",
        "    restore_best_weights=True) \n",
        "model.fit(x_train_dum_pca, y_train, epochs=10, callbacks=[early_stop])"
      ],
      "execution_count": 29,
      "outputs": [
        {
          "output_type": "stream",
          "text": [
            "Epoch 1/10\n",
            "37500/37500 [==============================] - 152s 4ms/step - loss: 0.3230 - tp: 1172693.0000 - fp: 1664.0000 - tn: 25589.0000 - fn: 54.0000 - accuracy: 0.9986 - precision: 0.9986 - recall: 1.0000 - auc: 0.9742\n",
            "Epoch 2/10\n",
            "37500/37500 [==============================] - 152s 4ms/step - loss: 0.3227 - tp: 1172746.0000 - fp: 1412.0000 - tn: 25841.0000 - fn: 1.0000 - accuracy: 0.9988 - precision: 0.9988 - recall: 1.0000 - auc: 0.9741\n",
            "Epoch 3/10\n",
            "37500/37500 [==============================] - 148s 4ms/step - loss: 0.3227 - tp: 1172747.0000 - fp: 1407.0000 - tn: 25846.0000 - fn: 0.0000e+00 - accuracy: 0.9988 - precision: 0.9988 - recall: 1.0000 - auc: 0.9742\n",
            "Epoch 4/10\n",
            "37500/37500 [==============================] - 146s 4ms/step - loss: 0.3227 - tp: 1172747.0000 - fp: 1407.0000 - tn: 25846.0000 - fn: 0.0000e+00 - accuracy: 0.9988 - precision: 0.9988 - recall: 1.0000 - auc: 0.9742\n",
            "Epoch 5/10\n",
            "37500/37500 [==============================] - 144s 4ms/step - loss: 0.3227 - tp: 1172747.0000 - fp: 1407.0000 - tn: 25846.0000 - fn: 0.0000e+00 - accuracy: 0.9988 - precision: 0.9988 - recall: 1.0000 - auc: 0.9742\n",
            "Epoch 6/10\n",
            "37500/37500 [==============================] - 143s 4ms/step - loss: 0.3227 - tp: 1172747.0000 - fp: 1407.0000 - tn: 25846.0000 - fn: 0.0000e+00 - accuracy: 0.9988 - precision: 0.9988 - recall: 1.0000 - auc: 0.9742\n",
            "Epoch 7/10\n",
            "37500/37500 [==============================] - 143s 4ms/step - loss: 0.3227 - tp: 1172747.0000 - fp: 1407.0000 - tn: 25846.0000 - fn: 0.0000e+00 - accuracy: 0.9988 - precision: 0.9988 - recall: 1.0000 - auc: 0.9742\n",
            "Epoch 8/10\n",
            "37498/37500 [============================>.] - ETA: 0s - loss: 0.3227 - tp: 1172685.0000 - fp: 1407.0000 - tn: 25844.0000 - fn: 0.0000e+00 - accuracy: 0.9988 - precision: 0.9988 - recall: 1.0000 - auc: 0.9742Restoring model weights from the end of the best epoch.\n",
            "37500/37500 [==============================] - 143s 4ms/step - loss: 0.3227 - tp: 1172747.0000 - fp: 1407.0000 - tn: 25846.0000 - fn: 0.0000e+00 - accuracy: 0.9988 - precision: 0.9988 - recall: 1.0000 - auc: 0.9742\n",
            "Epoch 00008: early stopping\n"
          ],
          "name": "stdout"
        },
        {
          "output_type": "execute_result",
          "data": {
            "text/plain": [
              "<tensorflow.python.keras.callbacks.History at 0x7ff016e0a710>"
            ]
          },
          "metadata": {
            "tags": []
          },
          "execution_count": 29
        }
      ]
    },
    {
      "cell_type": "code",
      "metadata": {
        "id": "wCUw2B-gmr7J",
        "colab_type": "code",
        "colab": {}
      },
      "source": [
        "# test_loss, test_acc = model.evaluate(x_test_dum_pca,  y_test, verbose=2)"
      ],
      "execution_count": 0,
      "outputs": []
    }
  ]
}